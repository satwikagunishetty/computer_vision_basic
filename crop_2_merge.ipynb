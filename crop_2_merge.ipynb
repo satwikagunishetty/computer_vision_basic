{
 "cells": [
  {
   "cell_type": "code",
   "execution_count": 102,
   "metadata": {},
   "outputs": [],
   "source": [
    "import cv2\n",
    "import numpy as np\n",
    "\n",
    "# read all the images\n",
    "# we are going to take 4 images only\n",
    "image1=cv2.imread(\"img1.jpg\")\n",
    "image2=cv2.imread(\"img2.jpg\")\n",
    "image1=cv2.resize(image1,(400,400))\n",
    "image2=cv2.resize(image2,(400,400))"
   ]
  },
  {
   "cell_type": "code",
   "execution_count": 103,
   "metadata": {},
   "outputs": [],
   "source": [
    "cphoto1 = image1[200:350, :]\n",
    "cphoto2 = image2[350:400, :]\n",
    "cphoto3= image2[100:200,:]\n",
    "cphoto4= np.concatenate((cphoto3,cphoto1,cphoto2))"
   ]
  },
  {
   "cell_type": "code",
   "execution_count": 105,
   "metadata": {},
   "outputs": [],
   "source": [
    "cv2.imshow(\"final_img\",cphoto4)\n",
    "cv2.waitKey()\n",
    "cv2.imwrite(\"final_img.jpg\",cphoto4)\n",
    "cv2.destroyAllWindows()"
   ]
  },
  {
   "cell_type": "code",
   "execution_count": null,
   "metadata": {},
   "outputs": [],
   "source": [
    "\n"
   ]
  }
 ],
 "metadata": {
  "kernelspec": {
   "display_name": "Python 3",
   "language": "python",
   "name": "python3"
  },
  "language_info": {
   "codemirror_mode": {
    "name": "ipython",
    "version": 3
   },
   "file_extension": ".py",
   "mimetype": "text/x-python",
   "name": "python",
   "nbconvert_exporter": "python",
   "pygments_lexer": "ipython3",
   "version": "3.8.3"
  }
 },
 "nbformat": 4,
 "nbformat_minor": 4
}
