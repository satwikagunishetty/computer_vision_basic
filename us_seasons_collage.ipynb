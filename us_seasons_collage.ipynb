{
 "cells": [
  {
   "cell_type": "code",
   "execution_count": 3,
   "metadata": {},
   "outputs": [],
   "source": [
    "# importing the modules\n",
    "import cv2\n",
    "import numpy as np\n",
    "\n",
    "# read all the images\n",
    "# we are going to take 4 images only\n",
    "image1=cv2.imread(\"us_rainy.jpg\")\n",
    "image2=cv2.imread(\"us_winter.jpg\")\n",
    "image3=cv2.imread(\"us_summer.jpg\")\n",
    "image4=cv2.imread(\"us_spring.jpg\")\n",
    "\n",
    "# make all the images of same size \n",
    "#so we will use resize function\n",
    "image1=cv2.resize(image1,(400,400))\n",
    "image2=cv2.resize(image2,(400,400))\n",
    "image3=cv2.resize(image3,(400,400))\n",
    "image4=cv2.resize(image4,(400,400))\n",
    "\n",
    "# Now how we will attach image with other image\n",
    "# we will create a horizontal stack of images\n",
    "# then we will add it to the vertical stack\n",
    "# let the horizontal pair be (image1,image2)\n",
    "# and (image3,image4)\n",
    "# we will use numpy stack function\n",
    "Horizontal1=np.hstack([image1,image2])\n",
    "Horizontal2=np.hstack([image3,image4])\n",
    "\n",
    "# Now the horizontal attachment is done\n",
    "# noe vertical attachment\n",
    "Vertical_attachment=np.vstack([Horizontal1,Horizontal2])\n",
    "\n",
    "# Show the final attachment\n",
    "cv2.imshow(\"Final Collage\",Vertical_attachment)\n",
    "cv2.waitKey(0)\n",
    "cv2.destroyAllWindows()"
   ]
  },
  {
   "cell_type": "code",
   "execution_count": null,
   "metadata": {},
   "outputs": [],
   "source": []
  },
  {
   "cell_type": "code",
   "execution_count": null,
   "metadata": {},
   "outputs": [],
   "source": []
  }
 ],
 "metadata": {
  "kernelspec": {
   "display_name": "Python 3",
   "language": "python",
   "name": "python3"
  },
  "language_info": {
   "codemirror_mode": {
    "name": "ipython",
    "version": 3
   },
   "file_extension": ".py",
   "mimetype": "text/x-python",
   "name": "python",
   "nbconvert_exporter": "python",
   "pygments_lexer": "ipython3",
   "version": "3.8.3"
  }
 },
 "nbformat": 4,
 "nbformat_minor": 4
}
