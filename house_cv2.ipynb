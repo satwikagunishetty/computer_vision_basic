{
 "cells": [
  {
   "cell_type": "code",
   "execution_count": 13,
   "metadata": {},
   "outputs": [
    {
     "data": {
      "text/plain": [
       "array([[[0, 0, 0],\n",
       "        [0, 0, 0],\n",
       "        [0, 0, 0],\n",
       "        ...,\n",
       "        [0, 0, 0],\n",
       "        [0, 0, 0],\n",
       "        [0, 0, 0]],\n",
       "\n",
       "       [[0, 0, 0],\n",
       "        [0, 0, 0],\n",
       "        [0, 0, 0],\n",
       "        ...,\n",
       "        [0, 0, 0],\n",
       "        [0, 0, 0],\n",
       "        [0, 0, 0]],\n",
       "\n",
       "       [[0, 0, 0],\n",
       "        [0, 0, 0],\n",
       "        [0, 0, 0],\n",
       "        ...,\n",
       "        [0, 0, 0],\n",
       "        [0, 0, 0],\n",
       "        [0, 0, 0]],\n",
       "\n",
       "       ...,\n",
       "\n",
       "       [[0, 0, 0],\n",
       "        [0, 0, 0],\n",
       "        [0, 0, 0],\n",
       "        ...,\n",
       "        [0, 0, 0],\n",
       "        [0, 0, 0],\n",
       "        [0, 0, 0]],\n",
       "\n",
       "       [[0, 0, 0],\n",
       "        [0, 0, 0],\n",
       "        [0, 0, 0],\n",
       "        ...,\n",
       "        [0, 0, 0],\n",
       "        [0, 0, 0],\n",
       "        [0, 0, 0]],\n",
       "\n",
       "       [[0, 0, 0],\n",
       "        [0, 0, 0],\n",
       "        [0, 0, 0],\n",
       "        ...,\n",
       "        [0, 0, 0],\n",
       "        [0, 0, 0],\n",
       "        [0, 0, 0]]], dtype=uint8)"
      ]
     },
     "execution_count": 13,
     "metadata": {},
     "output_type": "execute_result"
    }
   ],
   "source": [
    "import numpy as np\n",
    "import cv2\n",
    "cphoto = np.zeros((500,500,3),np.uint8)\n",
    "\n",
    "# Width and height of the black window \n",
    "width = 400\n",
    "height = 300\n",
    "  \n",
    "# Create a black window of 400 x 300\n",
    "img = np.zeros((500, 500, 3), np.uint8)\n",
    "  \n",
    "# Three vertices(tuples) of the triangle \n",
    "p1 = (150, 100)\n",
    "p2 = (100, 200)\n",
    "p3 = (200, 200)\n",
    "  \n",
    "# Drawing the triangle with the help of lines\n",
    "#  on the black window With given points \n",
    "# cv2.line is the inbuilt function in opencv library\n",
    "cv2.line(img, p1, p2, (255, 0, 0), 5)\n",
    "cv2.line(img, p2, p3, (255, 0, 0), 5)\n",
    "cv2.line(img, p1, p3, (255, 0, 0), 5)\n",
    "  \n",
    "# finding centroid using the following formula\n",
    "# (X, Y) = (x1 + x2 + x3//3, y1 + y2 + y3//3) \n",
    "centroid = ((p1[0]+p2[0]+p3[0])//3, (p1[1]+p2[1]+p3[1])//3)\n",
    "  \n",
    "# Drawing the centroid on the window  \n",
    "cv2.circle(img, centroid, 10, (0, 255, 0),3 )\n"
   ]
  },
  {
   "cell_type": "code",
   "execution_count": null,
   "metadata": {},
   "outputs": [],
   "source": [
    "#rphoto=cv2.rectangle(img,(120,182),(120+151,185+151),[0,255,0],5)\n",
    "ephoto=cv2.rectangle(img,(100,200),(100+100,200+95),[0,255,255],5)\n",
    "hphoto=cv2.rectangle(ephoto,(205,200),(200+200,100+195),[0,0,255],5)\n",
    "kphoto = cv2 .rectangle (hphoto ,(200,100),(400,195),[255,255,0],5)\n",
    "lphoto = cv2.rectangle( kphoto,(135,225),(160,295),[0,0,255],5 )\n",
    "dphoto = cv2.rectangle( lphoto,(135,305),(160,400),[0,255,0],5)\n",
    "cv2.imshow(\"image\", kphoto)\n",
    "cv2.imwrite(\"house.jpg\",kphoto)\n",
    "cv2.waitKey()"
   ]
  },
  {
   "cell_type": "code",
   "execution_count": null,
   "metadata": {},
   "outputs": [],
   "source": []
  },
  {
   "cell_type": "code",
   "execution_count": null,
   "metadata": {},
   "outputs": [],
   "source": []
  },
  {
   "cell_type": "code",
   "execution_count": null,
   "metadata": {},
   "outputs": [],
   "source": []
  },
  {
   "cell_type": "code",
   "execution_count": null,
   "metadata": {},
   "outputs": [],
   "source": []
  },
  {
   "cell_type": "code",
   "execution_count": null,
   "metadata": {},
   "outputs": [],
   "source": []
  },
  {
   "cell_type": "code",
   "execution_count": null,
   "metadata": {},
   "outputs": [],
   "source": []
  },
  {
   "cell_type": "code",
   "execution_count": null,
   "metadata": {},
   "outputs": [],
   "source": []
  },
  {
   "cell_type": "code",
   "execution_count": 9,
   "metadata": {},
   "outputs": [
    {
     "data": {
      "text/plain": [
       "-1"
      ]
     },
     "execution_count": 9,
     "metadata": {},
     "output_type": "execute_result"
    }
   ],
   "source": []
  },
  {
   "cell_type": "code",
   "execution_count": 10,
   "metadata": {},
   "outputs": [
    {
     "data": {
      "text/plain": [
       "-1"
      ]
     },
     "execution_count": 10,
     "metadata": {},
     "output_type": "execute_result"
    }
   ],
   "source": []
  }
 ],
 "metadata": {
  "kernelspec": {
   "display_name": "Python 3",
   "language": "python",
   "name": "python3"
  },
  "language_info": {
   "codemirror_mode": {
    "name": "ipython",
    "version": 3
   },
   "file_extension": ".py",
   "mimetype": "text/x-python",
   "name": "python",
   "nbconvert_exporter": "python",
   "pygments_lexer": "ipython3",
   "version": "3.8.3"
  }
 },
 "nbformat": 4,
 "nbformat_minor": 4
}
